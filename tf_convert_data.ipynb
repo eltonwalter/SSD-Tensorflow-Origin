{
 "cells": [
  {
   "cell_type": "code",
   "execution_count": 1,
   "metadata": {
    "scrolled": true
   },
   "outputs": [
    {
     "name": "stdout",
     "output_type": "stream",
     "text": [
      "Dataset directory: VOC2007/\n",
      "Output directory: ./tfrecords\n",
      ">> Converting image 5011/5011\n",
      "Finished converting the Pascal VOC dataset!\n"
     ]
    },
    {
     "ename": "SystemExit",
     "evalue": "",
     "output_type": "error",
     "traceback": [
      "An exception has occurred, use %tb to see the full traceback.\n",
      "\u001b[1;31mSystemExit\u001b[0m\n"
     ]
    },
    {
     "name": "stderr",
     "output_type": "stream",
     "text": [
      "D:\\Anaconda\\lib\\site-packages\\IPython\\core\\interactiveshell.py:2971: UserWarning: To exit: use 'exit', 'quit', or Ctrl-D.\n",
      "  warn(\"To exit: use 'exit', 'quit', or Ctrl-D.\", stacklevel=1)\n"
     ]
    }
   ],
   "source": [
    "# Copyright 2016 The TensorFlow Authors. All Rights Reserved.\n",
    "#\n",
    "# Licensed under the Apache License, Version 2.0 (the \"License\");\n",
    "# you may not use this file except in compliance with the License.\n",
    "# You may obtain a copy of the License at\n",
    "#\n",
    "#     http://www.apache.org/licenses/LICENSE-2.0\n",
    "#\n",
    "# Unless required by applicable law or agreed to in writing, software\n",
    "# distributed under the License is distributed on an \"AS IS\" BASIS,\n",
    "# WITHOUT WARRANTIES OR CONDITIONS OF ANY KIND, either express or implied.\n",
    "# See the License for the specific language governing permissions and\n",
    "# limitations under the License.\n",
    "# ==============================================================================\n",
    "\"\"\"Convert a dataset to TFRecords format, which can be easily integrated into\n",
    "a TensorFlow pipeline.\n",
    "\n",
    "Usage:\n",
    "```shell\n",
    "python tf_convert_data.py \\\n",
    "    --dataset_name=pascalvoc \\\n",
    "    --dataset_dir=/tmp/pascalvoc \\\n",
    "    --output_name=pascalvoc \\\n",
    "    --output_dir=/tmp/\n",
    "```\n",
    "\"\"\"\n",
    "import tensorflow as tf\n",
    "\n",
    "from datasets import pascalvoc_to_tfrecords\n",
    "\n",
    "FLAGS = tf.app.flags.FLAGS\n",
    "\n",
    "\"\"\"\n",
    "tf.app.flags.DEFINE_string(\n",
    "    'dataset_name', 'pascalvoc',\n",
    "    'The name of the dataset to convert.')\n",
    "tf.app.flags.DEFINE_string(\n",
    "    'dataset_dir', None,\n",
    "    'Directory where the original dataset is stored.')\n",
    "tf.app.flags.DEFINE_string(\n",
    "    'output_name', 'pascalvoc',\n",
    "    'Basename used for TFRecords output files.')\n",
    "tf.app.flags.DEFINE_string(\n",
    "    'output_dir', './',\n",
    "    'Output directory where to store TFRecords files.')\n",
    "\"\"\"\n",
    "DATASET_DIR = \"VOC2007/\"\n",
    "OUTPUT_DIR = \"./tfrecords\"\n",
    "tf.app.flags.DEFINE_string(\n",
    "    'dataset_name', 'pascalvoc',\n",
    "    'The name of the dataset to convert.')\n",
    "tf.app.flags.DEFINE_string(\n",
    "    'dataset_dir', DATASET_DIR,\n",
    "    'Directory where the original dataset is stored.')\n",
    "tf.app.flags.DEFINE_string(\n",
    "    'output_name', 'voc_2007_train',\n",
    "    'Basename used for TFRecords output files.')\n",
    "tf.app.flags.DEFINE_string(\n",
    "    'output_dir', OUTPUT_DIR,\n",
    "    'Output directory where to store TFRecords files.')\n",
    "\n",
    "\n",
    "\n",
    "def main(_):\n",
    "    if not FLAGS.dataset_dir:\n",
    "        raise ValueError('You must supply the dataset directory with --dataset_dir')\n",
    "    print('Dataset directory:', FLAGS.dataset_dir)\n",
    "    print('Output directory:', FLAGS.output_dir)\n",
    "\n",
    "    if FLAGS.dataset_name == 'pascalvoc':\n",
    "        pascalvoc_to_tfrecords.run(FLAGS.dataset_dir, FLAGS.output_dir, FLAGS.output_name)\n",
    "    else:\n",
    "        raise ValueError('Dataset [%s] was not recognized.' % FLAGS.dataset_name)\n",
    "\n",
    "if __name__ == '__main__':\n",
    "    tf.app.run()\n"
   ]
  },
  {
   "cell_type": "code",
   "execution_count": null,
   "metadata": {},
   "outputs": [],
   "source": []
  },
  {
   "cell_type": "code",
   "execution_count": null,
   "metadata": {},
   "outputs": [],
   "source": []
  }
 ],
 "metadata": {
  "kernelspec": {
   "display_name": "Python 3",
   "language": "python",
   "name": "python3"
  },
  "language_info": {
   "codemirror_mode": {
    "name": "ipython",
    "version": 3
   },
   "file_extension": ".py",
   "mimetype": "text/x-python",
   "name": "python",
   "nbconvert_exporter": "python",
   "pygments_lexer": "ipython3",
   "version": "3.5.5"
  },
  "widgets": {
   "state": {},
   "version": "1.1.2"
  }
 },
 "nbformat": 4,
 "nbformat_minor": 2
}
